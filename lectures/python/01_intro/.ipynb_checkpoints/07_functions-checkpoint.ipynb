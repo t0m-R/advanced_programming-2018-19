{
 "cells": [
  {
   "cell_type": "markdown",
   "metadata": {},
   "source": [
    "## Functions\n",
    "### Keyword and positional arguments\n",
    "\n",
    "* default argument values can be passed, even unordered, using keyword arguments (named arguments)\n",
    "* keyword arguments are passed as a dictionary {key:value,...}\n",
    "* not keyword arguments are called positional arguments\n",
    "* positional arguments should be starred if after a keyword argument\n",
    " * \\*expression must evaluate an iterable"
   ]
  },
  {
   "cell_type": "code",
   "execution_count": 2,
   "metadata": {},
   "outputs": [],
   "source": [
    "def foo(*positional, **keywords):\n",
    "    print(\"Positional:\", positional, end='\\t')\n",
    "    print(\"Keywords:\", keywords)"
   ]
  },
  {
   "cell_type": "code",
   "execution_count": 3,
   "metadata": {},
   "outputs": [
    {
     "name": "stdout",
     "output_type": "stream",
     "text": [
      "Positional: ('1st', '2nd', '3rd')\tKeywords: {}\n"
     ]
    }
   ],
   "source": [
    "foo('1st', '2nd', '3rd')"
   ]
  },
  {
   "cell_type": "code",
   "execution_count": 4,
   "metadata": {},
   "outputs": [
    {
     "name": "stdout",
     "output_type": "stream",
     "text": [
      "Positional: ()\tKeywords: {'par1': '1st', 'par2': '2nd', 'par3': '3rd'}\n"
     ]
    }
   ],
   "source": [
    "foo(par1='1st', par2='2nd', par3='3rd')"
   ]
  },
  {
   "cell_type": "code",
   "execution_count": 5,
   "metadata": {},
   "outputs": [
    {
     "name": "stdout",
     "output_type": "stream",
     "text": [
      "Positional: ('1st',)\tKeywords: {'par2': '2nd', 'par3': '3rd'}\n"
     ]
    }
   ],
   "source": [
    "foo('1st', par2='2nd', par3='3rd')"
   ]
  },
  {
   "cell_type": "code",
   "execution_count": 6,
   "metadata": {},
   "outputs": [
    {
     "name": "stdout",
     "output_type": "stream",
     "text": [
      "Positional: ('tuple', 'unpacking')\tKeywords: {'par1': '1st_key', 'par2': '2nd_key'}\n"
     ]
    }
   ],
   "source": [
    "foo(par1='1st_key',*('tuple','unpacking'), par2='2nd_key')"
   ]
  },
  {
   "cell_type": "code",
   "execution_count": 8,
   "metadata": {},
   "outputs": [
    {
     "name": "stdout",
     "output_type": "stream",
     "text": [
      "Positional: ('1st_pos', '2st_pos', '3rd_pos')\tKeywords: {'par1': '1st_key', 'par2': '2nd_key'}\n"
     ]
    }
   ],
   "source": [
    "foo(par1='1st_key',*['1st_pos'], par2='2nd_key',*['2st_pos','3rd_pos'])"
   ]
  },
  {
   "cell_type": "markdown",
   "metadata": {},
   "source": [
    "### more on tuple unpacking"
   ]
  },
  {
   "cell_type": "code",
   "execution_count": 9,
   "metadata": {},
   "outputs": [
    {
     "data": {
      "text/plain": [
       "(0, 1, [2, 3, 4])"
      ]
     },
     "execution_count": 9,
     "metadata": {},
     "output_type": "execute_result"
    }
   ],
   "source": [
    "a,b,*rest = range(5)\n",
    "a,b,rest"
   ]
  },
  {
   "cell_type": "code",
   "execution_count": 10,
   "metadata": {},
   "outputs": [
    {
     "name": "stdout",
     "output_type": "stream",
     "text": [
      "0 [1, 2] 3 4\n"
     ]
    }
   ],
   "source": [
    "a,*body,c,d = range(5)\n",
    "print(a,body,c,d)"
   ]
  },
  {
   "cell_type": "code",
   "execution_count": 12,
   "metadata": {},
   "outputs": [
    {
     "ename": "SyntaxError",
     "evalue": "two starred expressions in assignment (<ipython-input-12-e09f43196a1e>, line 1)",
     "output_type": "error",
     "traceback": [
      "\u001b[0;36m  File \u001b[0;32m\"<ipython-input-12-e09f43196a1e>\"\u001b[0;36m, line \u001b[0;32m1\u001b[0m\n\u001b[0;31m    *head, a,b, *wrong = range(5) # only one * is allowed\u001b[0m\n\u001b[0m                                                         ^\u001b[0m\n\u001b[0;31mSyntaxError\u001b[0m\u001b[0;31m:\u001b[0m two starred expressions in assignment\n"
     ]
    }
   ],
   "source": [
    "*head, a,b, *wrong = range(5) # only one * is allowed"
   ]
  },
  {
   "cell_type": "code",
   "execution_count": 13,
   "metadata": {},
   "outputs": [
    {
     "name": "stdout",
     "output_type": "stream",
     "text": [
      "4\n"
     ]
    }
   ],
   "source": [
    "*_, last = range(5)\n",
    "print(last)"
   ]
  },
  {
   "cell_type": "markdown",
   "metadata": {},
   "source": [
    "### nested tuples "
   ]
  },
  {
   "cell_type": "code",
   "execution_count": 16,
   "metadata": {},
   "outputs": [
    {
     "name": "stdout",
     "output_type": "stream",
     "text": [
      "Tokyo 35.689 139.692\n",
      "San Paulo -23.547 -46.6358\n"
     ]
    }
   ],
   "source": [
    "cities = [('Tokyo', 'JP', 'un', 'important', 'fields',(35.689,139.692)),\n",
    "          ('San Paulo', 'BR','not', 'relevant', 'fields',(-23.547,-46.6358))]\n",
    "\n",
    "for city, *_, (latitude, longitude) in cities:\n",
    "    print(city, latitude, longitude)"
   ]
  },
  {
   "cell_type": "code",
   "execution_count": null,
   "metadata": {},
   "outputs": [],
   "source": []
  }
 ],
 "metadata": {
  "kernelspec": {
   "display_name": "Python 3",
   "language": "python",
   "name": "python3"
  },
  "language_info": {
   "codemirror_mode": {
    "name": "ipython",
    "version": 3
   },
   "file_extension": ".py",
   "mimetype": "text/x-python",
   "name": "python",
   "nbconvert_exporter": "python",
   "pygments_lexer": "ipython3",
   "version": "3.6.7"
  }
 },
 "nbformat": 4,
 "nbformat_minor": 2
}
