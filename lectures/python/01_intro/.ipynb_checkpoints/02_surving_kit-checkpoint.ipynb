{
 "cells": [
  {
   "cell_type": "markdown",
   "metadata": {},
   "source": [
    "## Surviving kit\n",
    " - `print`\n",
    " - `type`\n",
    " - `help`\n",
    " - `dir`"
   ]
  },
  {
   "cell_type": "code",
   "execution_count": 1,
   "metadata": {},
   "outputs": [
    {
     "name": "stdout",
     "output_type": "stream",
     "text": [
      "hello world\n"
     ]
    }
   ],
   "source": [
    "print(\"hello\", \"world\")"
   ]
  },
  {
   "cell_type": "code",
   "execution_count": 2,
   "metadata": {},
   "outputs": [
    {
     "name": "stdout",
     "output_type": "stream",
     "text": [
      "<class 'str'>\n",
      "<class 'int'>\n",
      "<class 'bool'>\n"
     ]
    }
   ],
   "source": [
    "print(type(\"hello\"))\n",
    "print(type(1))\n",
    "print(type(True))"
   ]
  },
  {
   "cell_type": "code",
   "execution_count": 2,
   "metadata": {},
   "outputs": [
    {
     "name": "stdout",
     "output_type": "stream",
     "text": [
      "Help on class type in module builtins:\n",
      "\n",
      "class type(object)\n",
      " |  type(object_or_name, bases, dict)\n",
      " |  type(object) -> the object's type\n",
      " |  type(name, bases, dict) -> a new type\n",
      " |  \n",
      " |  Methods defined here:\n",
      " |  \n",
      " |  __call__(self, /, *args, **kwargs)\n",
      " |      Call self as a function.\n",
      " |  \n",
      " |  __delattr__(self, name, /)\n",
      " |      Implement delattr(self, name).\n",
      " |  \n",
      " |  __dir__(...)\n",
      " |      __dir__() -> list\n",
      " |      specialized __dir__ implementation for types\n",
      " |  \n",
      " |  __getattribute__(self, name, /)\n",
      " |      Return getattr(self, name).\n",
      " |  \n",
      " |  __init__(self, /, *args, **kwargs)\n",
      " |      Initialize self.  See help(type(self)) for accurate signature.\n",
      " |  \n",
      " |  __instancecheck__(...)\n",
      " |      __instancecheck__() -> bool\n",
      " |      check if an object is an instance\n",
      " |  \n",
      " |  __new__(*args, **kwargs)\n",
      " |      Create and return a new object.  See help(type) for accurate signature.\n",
      " |  \n",
      " |  __prepare__(...)\n",
      " |      __prepare__() -> dict\n",
      " |      used to create the namespace for the class statement\n",
      " |  \n",
      " |  __repr__(self, /)\n",
      " |      Return repr(self).\n",
      " |  \n",
      " |  __setattr__(self, name, value, /)\n",
      " |      Implement setattr(self, name, value).\n",
      " |  \n",
      " |  __sizeof__(...)\n",
      " |      __sizeof__() -> int\n",
      " |      return memory consumption of the type object\n",
      " |  \n",
      " |  __subclasscheck__(...)\n",
      " |      __subclasscheck__() -> bool\n",
      " |      check if a class is a subclass\n",
      " |  \n",
      " |  __subclasses__(...)\n",
      " |      __subclasses__() -> list of immediate subclasses\n",
      " |  \n",
      " |  mro(...)\n",
      " |      mro() -> list\n",
      " |      return a type's method resolution order\n",
      " |  \n",
      " |  ----------------------------------------------------------------------\n",
      " |  Data descriptors defined here:\n",
      " |  \n",
      " |  __abstractmethods__\n",
      " |  \n",
      " |  __dict__\n",
      " |  \n",
      " |  __text_signature__\n",
      " |  \n",
      " |  ----------------------------------------------------------------------\n",
      " |  Data and other attributes defined here:\n",
      " |  \n",
      " |  __base__ = <class 'object'>\n",
      " |      The most base type\n",
      " |  \n",
      " |  __bases__ = (<class 'object'>,)\n",
      " |  \n",
      " |  __basicsize__ = 864\n",
      " |  \n",
      " |  __dictoffset__ = 264\n",
      " |  \n",
      " |  __flags__ = 2148291584\n",
      " |  \n",
      " |  __itemsize__ = 40\n",
      " |  \n",
      " |  __mro__ = (<class 'type'>, <class 'object'>)\n",
      " |  \n",
      " |  __weakrefoffset__ = 368\n",
      "\n"
     ]
    }
   ],
   "source": [
    "help(type)\n"
   ]
  },
  {
   "cell_type": "code",
   "execution_count": 3,
   "metadata": {},
   "outputs": [
    {
     "name": "stdout",
     "output_type": "stream",
     "text": [
      "Help on NoneType object:\n",
      "\n",
      "class NoneType(object)\n",
      " |  Methods defined here:\n",
      " |  \n",
      " |  __bool__(self, /)\n",
      " |      self != 0\n",
      " |  \n",
      " |  __new__(*args, **kwargs) from builtins.type\n",
      " |      Create and return a new object.  See help(type) for accurate signature.\n",
      " |  \n",
      " |  __repr__(self, /)\n",
      " |      Return repr(self).\n",
      "\n"
     ]
    }
   ],
   "source": [
    "help(None)"
   ]
  },
  {
   "cell_type": "code",
   "execution_count": 4,
   "metadata": {},
   "outputs": [
    {
     "name": "stdout",
     "output_type": "stream",
     "text": [
      "['BBBB', 'FFFF', 'IIII', 'In', 'Out', 'SSSS', '_', '__', '___', '__builtin__', '__builtins__', '__doc__', '__loader__', '__name__', '__package__', '__spec__', '_dh', '_i', '_i1', '_i2', '_i3', '_i4', '_ih', '_ii', '_iii', '_oh', '_sh', 'exit', 'get_ipython', 'quit']\n"
     ]
    }
   ],
   "source": [
    "IIII = 1\n",
    "FFFF = 3.3\n",
    "SSSS = 'cc'\n",
    "BBBB = False\n",
    "\n",
    "print(dir()) #variables known from env"
   ]
  },
  {
   "cell_type": "code",
   "execution_count": 5,
   "metadata": {},
   "outputs": [
    {
     "name": "stdout",
     "output_type": "stream",
     "text": [
      "['__abs__', '__add__', '__and__', '__bool__', '__ceil__', '__class__', '__delattr__', '__dir__', '__divmod__', '__doc__', '__eq__', '__float__', '__floor__', '__floordiv__', '__format__', '__ge__', '__getattribute__', '__getnewargs__', '__gt__', '__hash__', '__index__', '__init__', '__init_subclass__', '__int__', '__invert__', '__le__', '__lshift__', '__lt__', '__mod__', '__mul__', '__ne__', '__neg__', '__new__', '__or__', '__pos__', '__pow__', '__radd__', '__rand__', '__rdivmod__', '__reduce__', '__reduce_ex__', '__repr__', '__rfloordiv__', '__rlshift__', '__rmod__', '__rmul__', '__ror__', '__round__', '__rpow__', '__rrshift__', '__rshift__', '__rsub__', '__rtruediv__', '__rxor__', '__setattr__', '__sizeof__', '__str__', '__sub__', '__subclasshook__', '__truediv__', '__trunc__', '__xor__', 'bit_length', 'conjugate', 'denominator', 'from_bytes', 'imag', 'numerator', 'real', 'to_bytes']\n"
     ]
    }
   ],
   "source": [
    "print(dir(1)) #variables known from 1  (akamethods)"
   ]
  },
  {
   "cell_type": "markdown",
   "metadata": {},
   "source": [
    "\n",
    "## Loops\n",
    "\n",
    "* loop statements\n",
    " * while, for, break, continue, else keywords\n",
    "* range(\\[start,\\]stop\\[,step\\]) is very handy in loops\n",
    " * returns an object that produces a sequence of integers from start (inclusive, default 0) to stop (exclusive) by step (default 1)\n",
    " * start, stop and step must be integers\n",
    "* pass statement is a reminder and can be used anywhere\n",
    "\n",
    "* --\n",
    "``` python\n",
    "for <var> in <set_of_values>: \n",
    "    <body>\n",
    "    if <condition>:\n",
    "        continue\n",
    "    <something_that_runs_if_condition_not_True>        \n",
    "```\n",
    "* --\n",
    "``` python    \n",
    "while <true_condition>:\n",
    "    <body>\n",
    "    if <another_condition>:\n",
    "        break    \n",
    "``` \n"
   ]
  },
  {
   "cell_type": "markdown",
   "metadata": {},
   "source": [
    "## Control flow"
   ]
  },
  {
   "cell_type": "code",
   "execution_count": 6,
   "metadata": {},
   "outputs": [
    {
     "name": "stdout",
     "output_type": "stream",
     "text": [
      "other color\n"
     ]
    }
   ],
   "source": [
    "color = \"red\"\n",
    "if color == \"blue\":\n",
    "    print(\"you have chosen blue\")\n",
    "elif color == \"yellow\":\n",
    "    print(\"you chose yellow\")\n",
    "else:\n",
    "    print(\"other color\")\n",
    "        "
   ]
  },
  {
   "cell_type": "markdown",
   "metadata": {},
   "source": [
    "### What about the assembly?"
   ]
  },
  {
   "cell_type": "code",
   "execution_count": 8,
   "metadata": {},
   "outputs": [
    {
     "name": "stdout",
     "output_type": "stream",
     "text": [
      "hello world\n",
      " 71           0 LOAD_FAST                0 (tb)\n",
      "              2 LOAD_CONST               1 (None)\n",
      "              4 COMPARE_OP               8 (is)\n",
      "              6 POP_JUMP_IF_FALSE       66\n",
      "\n",
      " 72           8 SETUP_EXCEPT            10 (to 20)\n",
      "\n",
      " 73          10 LOAD_GLOBAL              0 (sys)\n",
      "             12 LOAD_ATTR                1 (last_traceback)\n",
      "             14 STORE_FAST               0 (tb)\n",
      "             16 POP_BLOCK\n",
      "             18 JUMP_FORWARD            28 (to 48)\n",
      "\n",
      " 74     >>   20 DUP_TOP\n",
      "             22 LOAD_GLOBAL              2 (AttributeError)\n",
      "             24 COMPARE_OP              10 (exception match)\n",
      "             26 POP_JUMP_IF_FALSE       46\n",
      "             28 POP_TOP\n",
      "             30 POP_TOP\n",
      "             32 POP_TOP\n",
      "\n",
      " 75          34 LOAD_GLOBAL              3 (RuntimeError)\n",
      "             36 LOAD_CONST               2 ('no last traceback to disassemble')\n",
      "             38 CALL_FUNCTION            1\n",
      "    -->      40 RAISE_VARARGS            1\n",
      "             42 POP_EXCEPT\n",
      "             44 JUMP_FORWARD             2 (to 48)\n",
      "        >>   46 END_FINALLY\n",
      "\n",
      " 76     >>   48 SETUP_LOOP              16 (to 66)\n",
      "        >>   50 LOAD_FAST                0 (tb)\n",
      "             52 LOAD_ATTR                4 (tb_next)\n",
      "             54 POP_JUMP_IF_FALSE       64\n",
      "             56 LOAD_FAST                0 (tb)\n",
      "             58 LOAD_ATTR                4 (tb_next)\n",
      "             60 STORE_FAST               0 (tb)\n",
      "             62 JUMP_ABSOLUTE           50\n",
      "        >>   64 POP_BLOCK\n",
      "\n",
      " 77     >>   66 LOAD_GLOBAL              5 (disassemble)\n",
      "             68 LOAD_FAST                0 (tb)\n",
      "             70 LOAD_ATTR                6 (tb_frame)\n",
      "             72 LOAD_ATTR                7 (f_code)\n",
      "             74 LOAD_FAST                0 (tb)\n",
      "             76 LOAD_ATTR                8 (tb_lasti)\n",
      "             78 LOAD_FAST                1 (file)\n",
      "             80 LOAD_CONST               3 (('file',))\n",
      "             82 CALL_FUNCTION_KW         3\n",
      "             84 POP_TOP\n",
      "             86 LOAD_CONST               1 (None)\n",
      "             88 RETURN_VALUE\n"
     ]
    }
   ],
   "source": [
    "from dis import dis\n",
    "\n",
    "dis(print(\"hello\",\"world\"))"
   ]
  },
  {
   "cell_type": "code",
   "execution_count": null,
   "metadata": {},
   "outputs": [],
   "source": []
  }
 ],
 "metadata": {
  "kernelspec": {
   "display_name": "Python 3",
   "language": "python",
   "name": "python3"
  },
  "language_info": {
   "codemirror_mode": {
    "name": "ipython",
    "version": 3
   },
   "file_extension": ".py",
   "mimetype": "text/x-python",
   "name": "python",
   "nbconvert_exporter": "python",
   "pygments_lexer": "ipython3",
   "version": "3.6.7"
  }
 },
 "nbformat": 4,
 "nbformat_minor": 2
}
